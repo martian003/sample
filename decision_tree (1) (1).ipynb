{
 "cells": [
  {
   "cell_type": "code",
   "execution_count": 11,
   "id": "fe897c39",
   "metadata": {},
   "outputs": [],
   "source": [
    "import pandas as pd\n",
    "from sklearn.model_selection import train_test_split\n",
    "from sklearn.tree import DecisionTreeClassifier\n",
    "from sklearn import tree\n",
    "from sklearn.metrics import accuracy_score,classification_report,confusion_matrix"
   ]
  },
  {
   "cell_type": "code",
   "execution_count": 4,
   "id": "095bdc6a",
   "metadata": {},
   "outputs": [],
   "source": [
    "data = pd.read_csv('antfile17.csv')"
   ]
  },
  {
   "cell_type": "code",
   "execution_count": 6,
   "id": "7317bb4c",
   "metadata": {},
   "outputs": [],
   "source": [
    "X = data.drop('bug', axis=1)\n",
    "y = data['bug']"
   ]
  },
  {
   "cell_type": "code",
   "execution_count": 23,
   "id": "06642eed",
   "metadata": {},
   "outputs": [],
   "source": [
    "X_train, X_test, y_train, y_test = train_test_split(X, y, test_size=0.3, random_state=42)"
   ]
  },
  {
   "cell_type": "code",
   "execution_count": 24,
   "id": "35b26d7c",
   "metadata": {},
   "outputs": [
    {
     "data": {
      "text/plain": [
       "DecisionTreeClassifier(criterion='entropy', random_state=42)"
      ]
     },
     "execution_count": 24,
     "metadata": {},
     "output_type": "execute_result"
    }
   ],
   "source": [
    "#ID3\n",
    "clf = DecisionTreeClassifier(criterion='entropy',random_state=42) \n",
    "clf.fit(X_train, y_train)"
   ]
  },
  {
   "cell_type": "code",
   "execution_count": 25,
   "id": "20da8ec7",
   "metadata": {},
   "outputs": [],
   "source": [
    "clf_predictions = clf.predict(X_test)"
   ]
  },
  {
   "cell_type": "code",
   "execution_count": 26,
   "id": "2637c879",
   "metadata": {},
   "outputs": [],
   "source": [
    "clf_accuracy = accuracy_score(y_test,clf_predictions)\n",
    "clf_report = classification_report(y_test,clf_predictions)\n",
    "clf_confusion_matrix = confusion_matrix(y_test,clf_predictions)"
   ]
  },
  {
   "cell_type": "code",
   "execution_count": 27,
   "id": "92191d2d",
   "metadata": {},
   "outputs": [
    {
     "name": "stdout",
     "output_type": "stream",
     "text": [
      "77.67857142857143\n"
     ]
    }
   ],
   "source": [
    "print(clf_accuracy * 100)"
   ]
  },
  {
   "cell_type": "code",
   "execution_count": 28,
   "id": "2b185f41",
   "metadata": {
    "scrolled": true
   },
   "outputs": [
    {
     "name": "stdout",
     "output_type": "stream",
     "text": [
      "              precision    recall  f1-score   support\n",
      "\n",
      "           0       0.84      0.86      0.85       166\n",
      "           1       0.57      0.53      0.55        58\n",
      "\n",
      "    accuracy                           0.78       224\n",
      "   macro avg       0.71      0.70      0.70       224\n",
      "weighted avg       0.77      0.78      0.77       224\n",
      "\n"
     ]
    }
   ],
   "source": [
    "print(clf_report)"
   ]
  },
  {
   "cell_type": "code",
   "execution_count": 29,
   "id": "558c6cdd",
   "metadata": {},
   "outputs": [
    {
     "name": "stdout",
     "output_type": "stream",
     "text": [
      "[[143  23]\n",
      " [ 27  31]]\n"
     ]
    }
   ],
   "source": [
    "print(clf_confusion_matrix)"
   ]
  },
  {
   "cell_type": "code",
   "execution_count": 30,
   "id": "08d304d6",
   "metadata": {},
   "outputs": [
    {
     "data": {
      "text/plain": [
       "DecisionTreeClassifier(random_state=42)"
      ]
     },
     "execution_count": 30,
     "metadata": {},
     "output_type": "execute_result"
    }
   ],
   "source": [
    "#CART\n",
    "cart_model = DecisionTreeClassifier(criterion='gini',random_state=42)\n",
    "cart_model.fit(X_train,y_train)"
   ]
  },
  {
   "cell_type": "code",
   "execution_count": 31,
   "id": "c68267a9",
   "metadata": {},
   "outputs": [],
   "source": [
    "cart_predictions = cart_model.predict(X_test)"
   ]
  },
  {
   "cell_type": "code",
   "execution_count": 32,
   "id": "070f556c",
   "metadata": {},
   "outputs": [],
   "source": [
    "cart_accuracy = accuracy_score(y_test,cart_predictions)\n",
    "cart_report = classification_report(y_test,cart_predictions)\n",
    "cart_confusion_matrix = confusion_matrix(y_test,cart_predictions)"
   ]
  },
  {
   "cell_type": "code",
   "execution_count": 33,
   "id": "3f50bbcd",
   "metadata": {},
   "outputs": [
    {
     "name": "stdout",
     "output_type": "stream",
     "text": [
      "77.67857142857143\n"
     ]
    }
   ],
   "source": [
    "print(cart_accuracy  * 100)"
   ]
  },
  {
   "cell_type": "code",
   "execution_count": 34,
   "id": "e106b3b3",
   "metadata": {
    "scrolled": true
   },
   "outputs": [
    {
     "name": "stdout",
     "output_type": "stream",
     "text": [
      "              precision    recall  f1-score   support\n",
      "\n",
      "           0       0.84      0.87      0.85       166\n",
      "           1       0.58      0.52      0.55        58\n",
      "\n",
      "    accuracy                           0.78       224\n",
      "   macro avg       0.71      0.69      0.70       224\n",
      "weighted avg       0.77      0.78      0.77       224\n",
      "\n"
     ]
    }
   ],
   "source": [
    "print(cart_report)"
   ]
  },
  {
   "cell_type": "code",
   "execution_count": 35,
   "id": "4aa548f5",
   "metadata": {},
   "outputs": [
    {
     "name": "stdout",
     "output_type": "stream",
     "text": [
      "[[144  22]\n",
      " [ 28  30]]\n"
     ]
    }
   ],
   "source": [
    "print(cart_confusion_matrix)"
   ]
  },
  {
   "cell_type": "code",
   "execution_count": 39,
   "id": "4f94a8d0",
   "metadata": {},
   "outputs": [],
   "source": []
  },
  {
   "cell_type": "code",
   "execution_count": null,
   "id": "fe97bc06",
   "metadata": {},
   "outputs": [],
   "source": []
  },
  {
   "cell_type": "code",
   "execution_count": null,
   "id": "69c44be7",
   "metadata": {},
   "outputs": [],
   "source": []
  }
 ],
 "metadata": {
  "kernelspec": {
   "display_name": "Python 3 (ipykernel)",
   "language": "python",
   "name": "python3"
  },
  "language_info": {
   "codemirror_mode": {
    "name": "ipython",
    "version": 3
   },
   "file_extension": ".py",
   "mimetype": "text/x-python",
   "name": "python",
   "nbconvert_exporter": "python",
   "pygments_lexer": "ipython3",
   "version": "3.11.5"
  },
  "nteract": {
   "version": "nteract-front-end@1.0.0"
  }
 },
 "nbformat": 4,
 "nbformat_minor": 5
}
